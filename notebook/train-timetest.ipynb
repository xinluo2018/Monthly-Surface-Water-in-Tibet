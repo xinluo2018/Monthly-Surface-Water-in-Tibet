{
 "metadata": {
  "language_info": {
   "codemirror_mode": {
    "name": "ipython",
    "version": 3
   },
   "file_extension": ".py",
   "mimetype": "text/x-python",
   "name": "python",
   "nbconvert_exporter": "python",
   "pygments_lexer": "ipython3",
   "version": "3.6.13"
  },
  "orig_nbformat": 2,
  "kernelspec": {
   "name": "python3",
   "display_name": "Python 3",
   "language": "python"
  },
  "metadata": {
   "interpreter": {
    "hash": "6f5bb23da6bd6ab87296804a7ae062a565b497c650c7064ca78191dd29b49fd6"
   }
  }
 },
 "nbformat": 4,
 "nbformat_minor": 2,
 "cells": [
  {
   "cell_type": "code",
   "execution_count": 1,
   "metadata": {},
   "outputs": [],
   "source": [
    "import sys\n",
    "import config\n",
    "sys.path.append(config.root)\n",
    "sys.path.append(config.root+'/model')\n",
    "sys.path.append(config.root+'/trainer')\n",
    "import matplotlib.pyplot as plt\n",
    "import numpy as np\n",
    "import torch\n",
    "import torch.nn as nn\n",
    "import time\n",
    "import random\n",
    "import glob\n",
    "from dataloader.loader import patch_tensor_dset\n",
    "from dataloader.parallel_loader import parallel_load_dset\n",
    "from dataloader.parallel_loader import parallel_read\n",
    "from dataloader.read_preprocess import read_preprocess\n",
    "from utils.metric import oa_binary, miou_binary\n",
    "from utils.tiff_io import readTiff\n",
    "from utils.transforms import toTensor, crop_scales, normalize\n",
    "from utils.img_aug import rotate, flip, noise, missing\n",
    "from utils.plot_dset_one import plot_dset_one\n",
    "from utils.imgShow import imgShow\n",
    "from seg_model.unet import unet\n",
    "import matplotlib.pyplot as plt"
   ]
  },
  {
   "cell_type": "code",
   "execution_count": 2,
   "metadata": {},
   "outputs": [],
   "source": [
    "# ------------device---------------- #\n",
    "device = torch.device('cuda:0')\n",
    "# device = torch.device('cpu')\n",
    "\n",
    "# ----------Data paths-------------- #\n",
    "# ---s1 path---\n",
    "paths_as = sorted(glob.glob(config.root+'/data/s1_ascend/*'))\n",
    "paths_des = sorted(glob.glob(config.root+'/data/s1_descend/*'))\n",
    "paths_truth = sorted(glob.glob(config.root+'/data/s1_truth/*'))\n",
    "# ---patch path---\n",
    "paths_patch_tra = sorted(glob.glob(config.root+'/data/tra_patches/*'))\n",
    "paths_patch_test = sorted(glob.glob(config.root+'/data/test_patches/*'))\n",
    "\n",
    "#----------Training parameter------- #\n",
    "epochs = 200\n",
    "lr = 0.005\n",
    "torch.manual_seed(999)   # make the trianing replicable\n",
    "random.seed(999)         # make the data augmentation replicable"
   ]
  },
  {
   "cell_type": "code",
   "execution_count": 3,
   "metadata": {},
   "outputs": [],
   "source": [
    "# patch_list_tra = [torch.load(path) for path in paths_patch_tra]\n",
    "# patch_list_test = [torch.load(path) for path in paths_patch_test]\n"
   ]
  },
  {
   "cell_type": "code",
   "execution_count": 4,
   "metadata": {},
   "outputs": [],
   "source": [
    "scene_list, truth_list = read_preprocess(paths_as=paths_as, \\\n",
    "                        paths_des=paths_des, paths_truth=paths_truth)\n",
    "tra_dset = parallel_load_dset(scene_list[0:15], \\\n",
    "                        truth_list[0:15], num_thread=30)\n",
    "patch_list_test = [torch.load(path) for path in paths_patch_test]\n",
    "test_dset = patch_tensor_dset(patch_pair_list=patch_list_test)\n"
   ]
  },
  {
   "cell_type": "code",
   "execution_count": 5,
   "metadata": {},
   "outputs": [
    {
     "output_type": "execute_result",
     "data": {
      "text/plain": [
       "450"
      ]
     },
     "metadata": {},
     "execution_count": 5
    }
   ],
   "source": [
    "tra_dset.__len__()\n"
   ]
  },
  {
   "cell_type": "code",
   "execution_count": 6,
   "metadata": {},
   "outputs": [],
   "source": [
    "# tra_loader = torch.utils.data.DataLoader(tra_dset, batch_size=8, shuffle=True)\n",
    "tra_loader = torch.utils.data.DataLoader(tra_dset, batch_size=8)\n",
    "test_loader = torch.utils.data.DataLoader(test_dset, batch_size=8)\n"
   ]
  },
  {
   "cell_type": "code",
   "execution_count": 7,
   "metadata": {},
   "outputs": [],
   "source": [
    "### Configuration\n",
    "model = unet(num_bands=4, num_classes=2).to(device)\n",
    "# model = deeplabv3plus_xception65(img_channels=6, num_classes=2, output_stride=32).to(device)\n",
    "# model = deeplabv3plus_mobilev2_imp(img_channels=6, num_classes=2).to(device)\n",
    "# summary(model, input_size=(6, 512, 512))\n",
    "# loss_ce = nn.CrossEntropyLoss()\n",
    "loss_bce = nn.BCELoss()\n",
    "optimizer = torch.optim.Adam(model.parameters(), lr=lr)\n",
    "lr_scheduler = torch.optim.lr_scheduler.StepLR(optimizer, step_size=5, gamma=0.5)\n"
   ]
  },
  {
   "cell_type": "code",
   "execution_count": 8,
   "metadata": {},
   "outputs": [],
   "source": [
    "'''------train step------'''\n",
    "def train_step(model, loss_fn, optimizer, x, y):\n",
    "    pred = model(x)\n",
    "    loss = loss_fn(pred, y.float())\n",
    "    optimizer.zero_grad()\n",
    "    loss.backward()\n",
    "    optimizer.step()\n",
    "    miou = miou_binary(pred=pred, truth=y)\n",
    "    oa = oa_binary(pred=pred, truth=y)\n",
    "    return loss, miou, oa\n",
    "\n",
    "'''------test step------'''\n",
    "def test_step(model, loss_fn, x, y):\n",
    "    model.eval()\n",
    "    with torch.no_grad():\n",
    "        pred = model(x)\n",
    "        loss = loss_fn(pred, y.float())\n",
    "    miou = miou_binary(pred=pred, truth=y)\n",
    "    oa = oa_binary(pred=pred, truth=y)\n",
    "    return loss, miou, oa\n",
    "\n",
    "'''------train loops------'''\n",
    "def train_loops(model, loss_fn, optimizer, tra_loader, test_loader, epoches, lr_scheduler):\n",
    "    size_tra_loader = len(tra_loader)\n",
    "    size_test_loader = len(test_loader)\n",
    "    for epoch in range(epoches):\n",
    "        !free -m\n",
    "        start = time.time()\n",
    "        read_start = start\n",
    "        tra_loss, test_loss = 0, 0\n",
    "        tra_miou, test_miou = 0, 0\n",
    "        tra_oa, test_oa = 0, 0\n",
    "        '''-----train the model-----'''\n",
    "        time_dataread = []\n",
    "        time_train = []\n",
    "        for x_batch, y_batch in tra_loader:\n",
    "            x_batch, y_batch = [batch.to(device) for batch in x_batch], y_batch.to(device)\n",
    "            x_batch = x_batch[2]    #!!!note: x_batch[2] for single-scale model\n",
    "            batch_readend = time.time()  # for test time\n",
    "            time_dataread.append(batch_readend-read_start) # test time\n",
    "            loss, miou, oa = train_step(model=model, loss_fn=loss_fn, \n",
    "                                    optimizer=optimizer, x=x_batch, y=y_batch)\n",
    "            time_train.append(time.time()-batch_readend)\n",
    "            read_start = time.time()\n",
    "            tra_loss += loss.item()\n",
    "            tra_miou += miou.item()\n",
    "            tra_oa += oa.item()\n",
    "        lr_scheduler.step()  # dynamic adjust learning rate\n",
    "        format = 'ep: {}, data read: {:.2f}, model train: {:.2f}, all time: {:.2f}'\n",
    "        print(format.format(epoch, np.sum(time_dataread), np.sum(time_train), time.time()-start))\n"
   ]
  },
  {
   "cell_type": "code",
   "execution_count": 9,
   "metadata": {
    "tags": []
   },
   "outputs": [
    {
     "output_type": "stream",
     "name": "stdout",
     "text": [
      "              total        used        free      shared  buff/cache   available\n",
      "Mem:          64301       46164         466          10       17670       17466\n",
      "Swap:          2047        2047           0\n",
      "ep: 0, data read: 7.09, model train: 2.47, all time: 9.57\n",
      "              total        used        free      shared  buff/cache   available\n",
      "Mem:          64301       48309        1137          15       14854       15316\n",
      "Swap:          2047        2047           0\n",
      "ep: 1, data read: 6.50, model train: 1.82, all time: 8.32\n",
      "              total        used        free      shared  buff/cache   available\n",
      "Mem:          64301       47638        1845          15       14818       15987\n",
      "Swap:          2047        2047           0\n",
      "ep: 2, data read: 6.54, model train: 1.80, all time: 8.34\n",
      "              total        used        free      shared  buff/cache   available\n",
      "Mem:          64301       48772        1189          15       14339       14852\n",
      "Swap:          2047        2047           0\n",
      "ep: 3, data read: 6.64, model train: 1.81, all time: 8.44\n",
      "              total        used        free      shared  buff/cache   available\n",
      "Mem:          64301       49757        1215          15       13327       13867\n",
      "Swap:          2047        2047           0\n",
      "ep: 4, data read: 6.59, model train: 1.82, all time: 8.42\n",
      "              total        used        free      shared  buff/cache   available\n",
      "Mem:          64301       50582        1172          15       12546       13043\n",
      "Swap:          2047        2047           0\n",
      "ep: 5, data read: 6.65, model train: 1.81, all time: 8.46\n",
      "              total        used        free      shared  buff/cache   available\n",
      "Mem:          64301       51251        1153          15       11896       12374\n",
      "Swap:          2047        2047           0\n",
      "ep: 6, data read: 6.65, model train: 1.82, all time: 8.46\n",
      "              total        used        free      shared  buff/cache   available\n",
      "Mem:          64301       51846        1171          15       11283       11778\n",
      "Swap:          2047        2047           0\n",
      "ep: 7, data read: 6.63, model train: 1.82, all time: 8.45\n",
      "              total        used        free      shared  buff/cache   available\n",
      "Mem:          64301       52342        1104          15       10855       11283\n",
      "Swap:          2047        2047           0\n",
      "ep: 8, data read: 6.59, model train: 1.81, all time: 8.40\n",
      "              total        used        free      shared  buff/cache   available\n",
      "Mem:          64301       52423        1127          15       10751       11202\n",
      "Swap:          2047        2047           0\n",
      "ep: 9, data read: 6.60, model train: 1.80, all time: 8.40\n",
      "              total        used        free      shared  buff/cache   available\n",
      "Mem:          64301       53074        1176          15       10050       10550\n",
      "Swap:          2047        2047           0\n"
     ]
    }
   ],
   "source": [
    "train_loops(model=model,\n",
    "            loss_fn=loss_bce,\n",
    "            optimizer=optimizer,\n",
    "            tra_loader=tra_loader,\n",
    "            test_loader=test_loader,\n",
    "            epoches=100,\n",
    "            lr_scheduler=lr_scheduler)\n"
   ]
  },
  {
   "cell_type": "code",
   "execution_count": 9,
   "metadata": {},
   "outputs": [],
   "source": [
    "\n",
    "\n",
    "\n",
    "\n",
    "\n"
   ]
  }
 ]
}