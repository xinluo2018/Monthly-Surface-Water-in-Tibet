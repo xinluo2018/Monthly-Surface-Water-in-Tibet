{
 "metadata": {
  "language_info": {
   "codemirror_mode": {
    "name": "ipython",
    "version": 3
   },
   "file_extension": ".py",
   "mimetype": "text/x-python",
   "name": "python",
   "nbconvert_exporter": "python",
   "pygments_lexer": "ipython3",
   "version": "3.6.13"
  },
  "orig_nbformat": 2,
  "kernelspec": {
   "name": "python3613jvsc74a57bd06f5bb23da6bd6ab87296804a7ae062a565b497c650c7064ca78191dd29b49fd6",
   "display_name": "Python 3.6.13 64-bit ('venv-luo': conda)"
  },
  "metadata": {
   "interpreter": {
    "hash": "6f5bb23da6bd6ab87296804a7ae062a565b497c650c7064ca78191dd29b49fd6"
   }
  }
 },
 "nbformat": 4,
 "nbformat_minor": 2,
 "cells": [
  {
   "cell_type": "code",
   "execution_count": 1,
   "metadata": {},
   "outputs": [],
   "source": [
    "import sys\n",
    "sys.path.append(\"/home/yons/Desktop/developer-luo/SWatNet\")\n",
    "import numpy as np \n",
    "import random\n",
    "from utils.tiff_io import readTiff"
   ]
  },
  {
   "cell_type": "code",
   "execution_count": 2,
   "metadata": {},
   "outputs": [],
   "source": [
    "ascend_dir = '/home/yons/Desktop/developer-luo/SWatNet/data/s1_ascend'\n",
    "descend_dir = '/home/yons/Desktop/developer-luo/SWatNet/data/s1_descend'\n",
    "ascend_name = list(sorted(os.listdir(ascend_dir)))\n",
    "descend_name = list(sorted(os.listdir(descend_dir)))"
   ]
  },
  {
   "cell_type": "code",
   "execution_count": 3,
   "metadata": {},
   "outputs": [],
   "source": [
    "ascend_list, descend_list = [], []\n",
    "for i in range(len(ascend_name)):\n",
    "    ascend_path = os.path.join(ascend_dir, ascend_name[i])\n",
    "    descend_path = os.path.join(descend_dir, descend_name[i])\n",
    "    ascend,_,_,_,_,_ = readTiff(ascend_path)\n",
    "    descend,_,_,_,_,_ = readTiff(descend_path)\n",
    "    ascend_list.append(ascend)\n",
    "    descend_list.append(descend)"
   ]
  },
  {
   "cell_type": "code",
   "execution_count": 4,
   "metadata": {},
   "outputs": [
    {
     "output_type": "stream",
     "name": "stdout",
     "text": [
      "ascend_max: [25.98076361 10.22588158]\nascend_min: [-57.77743149 -70.36878967]\ndescend_max: [29.27596855 17.596035  ]\ndescend_min: [-58.97639845 -68.47470856]\n"
     ]
    }
   ],
   "source": [
    "ascend_max = [np.nanmax(ascend, axis=(0,1)) for ascend in ascend_list]\n",
    "ascend_max = np.nanmax(np.array(ascend_max), axis=0)\n",
    "ascend_min = [np.nanmin(ascend, axis=(0,1)) for ascend in ascend_list]\n",
    "ascend_min = np.nanmin(np.array(ascend_min), axis=0)\n",
    "descend_max = [np.nanmax(descend, axis=(0,1)) for descend in descend_list]\n",
    "descend_max = np.nanmax(np.array(descend_max), axis=0)\n",
    "descend_min = [np.nanmin(descend, axis=(0,1)) for descend in descend_list]\n",
    "descend_min = np.nanmin(np.array(descend_min), axis=0)\n",
    "print('ascend_max:', ascend_max)\n",
    "print('ascend_min:', ascend_min)\n",
    "print('descend_max:', descend_max)\n",
    "print('descend_min:', descend_min)\n"
   ]
  }
 ]
}